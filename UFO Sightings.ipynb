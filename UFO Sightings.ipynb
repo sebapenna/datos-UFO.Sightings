{
 "cells": [
  {
   "cell_type": "code",
   "execution_count": 2,
   "metadata": {},
   "outputs": [],
   "source": [
    "import pandas as pd\n",
    "import datetime"
   ]
  },
  {
   "cell_type": "code",
   "execution_count": 21,
   "metadata": {},
   "outputs": [],
   "source": [
    "path_to_file = '/home/seba/Escritorio/Datos/'\n",
    "fileDf = pd.read_csv(path_to_file + 'scrubbed.csv', low_memory=False)"
   ]
  },
  {
   "cell_type": "code",
   "execution_count": 4,
   "metadata": {
    "collapsed": true
   },
   "outputs": [
    {
     "data": {
      "text/plain": [
       "datetime                 object\n",
       "city                     object\n",
       "state                    object\n",
       "country                  object\n",
       "shape                    object\n",
       "duration (seconds)       object\n",
       "duration (hours/min)     object\n",
       "comments                 object\n",
       "date posted              object\n",
       "latitude                 object\n",
       "longitude               float64\n",
       "dtype: object"
      ]
     },
     "execution_count": 4,
     "metadata": {},
     "output_type": "execute_result"
    }
   ],
   "source": [
    "# tipos de las columnas del DataFrame\n",
    "fileDf.dtypes"
   ]
  },
  {
   "cell_type": "code",
   "execution_count": 24,
   "metadata": {},
   "outputs": [],
   "source": [
    "# Convierto el tipo de las columnas duration (seconds) y datetime\n",
    "fileDf['duration (seconds)'] = pd.to_numeric(fileDf['duration (seconds)'], errors = 'coerce')\n",
    "fileDf['datetime'] = pd.to_datetime(fileDf['datetime'], errors = 'coerce')"
   ]
  },
  {
   "cell_type": "code",
   "execution_count": 28,
   "metadata": {
    "collapsed": true
   },
   "outputs": [
    {
     "data": {
      "text/html": [
       "<div>\n",
       "<style scoped>\n",
       "    .dataframe tbody tr th:only-of-type {\n",
       "        vertical-align: middle;\n",
       "    }\n",
       "\n",
       "    .dataframe tbody tr th {\n",
       "        vertical-align: top;\n",
       "    }\n",
       "\n",
       "    .dataframe thead th {\n",
       "        text-align: right;\n",
       "    }\n",
       "</style>\n",
       "<table border=\"1\" class=\"dataframe\">\n",
       "  <thead>\n",
       "    <tr style=\"text-align: right;\">\n",
       "      <th></th>\n",
       "      <th>datetime</th>\n",
       "      <th>city</th>\n",
       "      <th>state</th>\n",
       "      <th>country</th>\n",
       "      <th>shape</th>\n",
       "      <th>duration (seconds)</th>\n",
       "      <th>duration (hours/min)</th>\n",
       "      <th>comments</th>\n",
       "      <th>date posted</th>\n",
       "      <th>latitude</th>\n",
       "      <th>longitude</th>\n",
       "    </tr>\n",
       "  </thead>\n",
       "  <tbody>\n",
       "    <tr>\n",
       "      <th>559</th>\n",
       "      <td>1983-10-01 17:00:00</td>\n",
       "      <td>birmingham (uk/england)</td>\n",
       "      <td>NaN</td>\n",
       "      <td>gb</td>\n",
       "      <td>sphere</td>\n",
       "      <td>97836000.0</td>\n",
       "      <td>31 years</td>\n",
       "      <td>Firstly&amp;#44 I was stunned and stared at the ob...</td>\n",
       "      <td>4/12/2013</td>\n",
       "      <td>52.466667</td>\n",
       "      <td>-1.916667</td>\n",
       "    </tr>\n",
       "  </tbody>\n",
       "</table>\n",
       "</div>"
      ],
      "text/plain": [
       "               datetime                     city state country   shape  \\\n",
       "559 1983-10-01 17:00:00  birmingham (uk/england)   NaN      gb  sphere   \n",
       "\n",
       "     duration (seconds) duration (hours/min)  \\\n",
       "559          97836000.0             31 years   \n",
       "\n",
       "                                              comments date posted   latitude  \\\n",
       "559  Firstly&#44 I was stunned and stared at the ob...   4/12/2013  52.466667   \n",
       "\n",
       "     longitude   \n",
       "559   -1.916667  "
      ]
     },
     "execution_count": 28,
     "metadata": {},
     "output_type": "execute_result"
    }
   ],
   "source": [
    "# Avistajes mas largos\n",
    "fileDf.nlargest(1,'duration (seconds)')"
   ]
  },
  {
   "cell_type": "code",
   "execution_count": 29,
   "metadata": {
    "collapsed": true
   },
   "outputs": [
    {
     "data": {
      "text/html": [
       "<div>\n",
       "<style scoped>\n",
       "    .dataframe tbody tr th:only-of-type {\n",
       "        vertical-align: middle;\n",
       "    }\n",
       "\n",
       "    .dataframe tbody tr th {\n",
       "        vertical-align: top;\n",
       "    }\n",
       "\n",
       "    .dataframe thead th {\n",
       "        text-align: right;\n",
       "    }\n",
       "</style>\n",
       "<table border=\"1\" class=\"dataframe\">\n",
       "  <thead>\n",
       "    <tr style=\"text-align: right;\">\n",
       "      <th></th>\n",
       "      <th>datetime</th>\n",
       "      <th>city</th>\n",
       "      <th>state</th>\n",
       "      <th>country</th>\n",
       "      <th>shape</th>\n",
       "      <th>duration (seconds)</th>\n",
       "      <th>duration (hours/min)</th>\n",
       "      <th>comments</th>\n",
       "      <th>date posted</th>\n",
       "      <th>latitude</th>\n",
       "      <th>longitude</th>\n",
       "    </tr>\n",
       "  </thead>\n",
       "  <tbody>\n",
       "    <tr>\n",
       "      <th>4081</th>\n",
       "      <td>2008-10-23 04:45:00</td>\n",
       "      <td>remote</td>\n",
       "      <td>wy</td>\n",
       "      <td>NaN</td>\n",
       "      <td>flash</td>\n",
       "      <td>0.001</td>\n",
       "      <td>0.001sec</td>\n",
       "      <td>brilliant strobe light at 4am&amp;#44 moving light...</td>\n",
       "      <td>1/10/2009</td>\n",
       "      <td>-46.163992</td>\n",
       "      <td>169.87505</td>\n",
       "    </tr>\n",
       "  </tbody>\n",
       "</table>\n",
       "</div>"
      ],
      "text/plain": [
       "                datetime    city state country  shape  duration (seconds)  \\\n",
       "4081 2008-10-23 04:45:00  remote    wy     NaN  flash               0.001   \n",
       "\n",
       "     duration (hours/min)                                           comments  \\\n",
       "4081             0.001sec  brilliant strobe light at 4am&#44 moving light...   \n",
       "\n",
       "     date posted    latitude  longitude   \n",
       "4081   1/10/2009  -46.163992   169.87505  "
      ]
     },
     "execution_count": 29,
     "metadata": {},
     "output_type": "execute_result"
    }
   ],
   "source": [
    "# Avistajes mas cortos\n",
    "fileDf.nsmallest(1,'duration (seconds)')"
   ]
  },
  {
   "cell_type": "code",
   "execution_count": 36,
   "metadata": {
    "collapsed": true
   },
   "outputs": [
    {
     "data": {
      "text/plain": [
       "state\n",
       "ca    9655\n",
       "wa    4268\n",
       "fl    4200\n",
       "tx    3677\n",
       "ny    3219\n",
       "dtype: int64"
      ]
     },
     "execution_count": 36,
     "metadata": {},
     "output_type": "execute_result"
    }
   ],
   "source": [
    "# Estados que mas se repiten\n",
    "fileDf.groupby('state').size().nlargest(5)"
   ]
  },
  {
   "cell_type": "code",
   "execution_count": 39,
   "metadata": {
    "collapsed": true
   },
   "outputs": [
    {
     "data": {
      "text/html": [
       "<div>\n",
       "<style scoped>\n",
       "    .dataframe tbody tr th:only-of-type {\n",
       "        vertical-align: middle;\n",
       "    }\n",
       "\n",
       "    .dataframe tbody tr th {\n",
       "        vertical-align: top;\n",
       "    }\n",
       "\n",
       "    .dataframe thead th {\n",
       "        text-align: right;\n",
       "    }\n",
       "</style>\n",
       "<table border=\"1\" class=\"dataframe\">\n",
       "  <thead>\n",
       "    <tr style=\"text-align: right;\">\n",
       "      <th></th>\n",
       "      <th>city</th>\n",
       "      <th>state</th>\n",
       "      <th>country</th>\n",
       "      <th>shape</th>\n",
       "      <th>duration (seconds)</th>\n",
       "      <th>duration (hours/min)</th>\n",
       "      <th>comments</th>\n",
       "      <th>date posted</th>\n",
       "      <th>latitude</th>\n",
       "      <th>longitude</th>\n",
       "    </tr>\n",
       "    <tr>\n",
       "      <th>datetime</th>\n",
       "      <th></th>\n",
       "      <th></th>\n",
       "      <th></th>\n",
       "      <th></th>\n",
       "      <th></th>\n",
       "      <th></th>\n",
       "      <th></th>\n",
       "      <th></th>\n",
       "      <th></th>\n",
       "      <th></th>\n",
       "    </tr>\n",
       "  </thead>\n",
       "  <tbody>\n",
       "    <tr>\n",
       "      <th>2007-03-22 22:15:00</th>\n",
       "      <td>corvallis</td>\n",
       "      <td>or</td>\n",
       "      <td>us</td>\n",
       "      <td>light</td>\n",
       "      <td>1.0</td>\n",
       "      <td>one-half second</td>\n",
       "      <td>Round&amp;#44 white light  with halo effect appear...</td>\n",
       "      <td>4/27/2007</td>\n",
       "      <td>44.5647222</td>\n",
       "      <td>-123.260833</td>\n",
       "    </tr>\n",
       "  </tbody>\n",
       "</table>\n",
       "</div>"
      ],
      "text/plain": [
       "                          city state country  shape  duration (seconds)  \\\n",
       "datetime                                                                  \n",
       "2007-03-22 22:15:00  corvallis    or      us  light                 1.0   \n",
       "\n",
       "                    duration (hours/min)  \\\n",
       "datetime                                   \n",
       "2007-03-22 22:15:00      one-half second   \n",
       "\n",
       "                                                              comments  \\\n",
       "datetime                                                                 \n",
       "2007-03-22 22:15:00  Round&#44 white light  with halo effect appear...   \n",
       "\n",
       "                    date posted    latitude  longitude   \n",
       "datetime                                                 \n",
       "2007-03-22 22:15:00   4/27/2007  44.5647222 -123.260833  "
      ]
     },
     "execution_count": 39,
     "metadata": {},
     "output_type": "execute_result"
    }
   ],
   "source": [
    "# Marzo 2007 - Avistajes mas cortos\n",
    "fileDf.set_index('datetime').loc['2007-03-01':'2007-03-31',:].nsmallest(1,'duration (seconds)')"
   ]
  },
  {
   "cell_type": "code",
   "execution_count": 45,
   "metadata": {
    "collapsed": true
   },
   "outputs": [
    {
     "data": {
      "text/plain": [
       "shape\n",
       "changing    1\n",
       "cylinder    1\n",
       "fireball    1\n",
       "light       1\n",
       "other       1\n",
       "dtype: int64"
      ]
     },
     "execution_count": 45,
     "metadata": {},
     "output_type": "execute_result"
    }
   ],
   "source": [
    "# Washington, DC - Shapes\n",
    "wash = fileDf.loc[(fileDf['city']=='washington') & (fileDf['state']== 'dc'),:]\n",
    "wash.groupby('shape').size().nlargest(5)"
   ]
  },
  {
   "cell_type": "code",
   "execution_count": 12,
   "metadata": {},
   "outputs": [
    {
     "data": {
      "text/plain": [
       "(137, 10)"
      ]
     },
     "execution_count": 12,
     "metadata": {},
     "output_type": "execute_result"
    }
   ],
   "source": [
    "# Canada 2010 - Cantidad Registros\n",
    "can = fileDf.loc[fileDf['country']=='ca',:]\n",
    "can = can.set_index('datetime').loc['2010-01-01':'2010-12-31',:]\n",
    "can.shape"
   ]
  },
  {
   "cell_type": "code",
   "execution_count": 49,
   "metadata": {
    "collapsed": true
   },
   "outputs": [
    {
     "data": {
      "text/html": [
       "<div>\n",
       "<style scoped>\n",
       "    .dataframe tbody tr th:only-of-type {\n",
       "        vertical-align: middle;\n",
       "    }\n",
       "\n",
       "    .dataframe tbody tr th {\n",
       "        vertical-align: top;\n",
       "    }\n",
       "\n",
       "    .dataframe thead th {\n",
       "        text-align: right;\n",
       "    }\n",
       "</style>\n",
       "<table border=\"1\" class=\"dataframe\">\n",
       "  <thead>\n",
       "    <tr style=\"text-align: right;\">\n",
       "      <th></th>\n",
       "      <th>city</th>\n",
       "      <th>state</th>\n",
       "      <th>country</th>\n",
       "      <th>shape</th>\n",
       "      <th>duration (seconds)</th>\n",
       "      <th>duration (hours/min)</th>\n",
       "      <th>comments</th>\n",
       "      <th>date posted</th>\n",
       "      <th>latitude</th>\n",
       "      <th>longitude</th>\n",
       "    </tr>\n",
       "    <tr>\n",
       "      <th>datetime</th>\n",
       "      <th></th>\n",
       "      <th></th>\n",
       "      <th></th>\n",
       "      <th></th>\n",
       "      <th></th>\n",
       "      <th></th>\n",
       "      <th></th>\n",
       "      <th></th>\n",
       "      <th></th>\n",
       "      <th></th>\n",
       "    </tr>\n",
       "  </thead>\n",
       "  <tbody>\n",
       "    <tr>\n",
       "      <th>2005-01-15 12:00:00</th>\n",
       "      <td>baker city</td>\n",
       "      <td>or</td>\n",
       "      <td>us</td>\n",
       "      <td>other</td>\n",
       "      <td>86400.0</td>\n",
       "      <td>everyday</td>\n",
       "      <td>Lessons learned</td>\n",
       "      <td>1/19/2005</td>\n",
       "      <td>44.7750000</td>\n",
       "      <td>-117.833333</td>\n",
       "    </tr>\n",
       "    <tr>\n",
       "      <th>2005-01-01 03:00:00</th>\n",
       "      <td>ocean shores</td>\n",
       "      <td>wa</td>\n",
       "      <td>us</td>\n",
       "      <td>flash</td>\n",
       "      <td>14400.0</td>\n",
       "      <td>4hrs</td>\n",
       "      <td>thier were ligth flashing &amp;#44moving in all di...</td>\n",
       "      <td>1/11/2005</td>\n",
       "      <td>46.9738889</td>\n",
       "      <td>-124.155000</td>\n",
       "    </tr>\n",
       "    <tr>\n",
       "      <th>2005-01-15 19:30:00</th>\n",
       "      <td>ocala (n and s of)</td>\n",
       "      <td>fl</td>\n",
       "      <td>us</td>\n",
       "      <td>triangle</td>\n",
       "      <td>12600.0</td>\n",
       "      <td>3.5 hours</td>\n",
       "      <td>Multiple types of objects in night sky of cent...</td>\n",
       "      <td>1/19/2005</td>\n",
       "      <td>29.1869444</td>\n",
       "      <td>-82.140278</td>\n",
       "    </tr>\n",
       "    <tr>\n",
       "      <th>2005-01-15 03:20:00</th>\n",
       "      <td>atlanta</td>\n",
       "      <td>tx</td>\n",
       "      <td>us</td>\n",
       "      <td>other</td>\n",
       "      <td>7200.0</td>\n",
       "      <td>2 hours</td>\n",
       "      <td>STRANGE LIGHTNING</td>\n",
       "      <td>2/8/2005</td>\n",
       "      <td>33.1136111</td>\n",
       "      <td>-94.164167</td>\n",
       "    </tr>\n",
       "    <tr>\n",
       "      <th>2005-01-19 18:30:00</th>\n",
       "      <td>jacksonville</td>\n",
       "      <td>fl</td>\n",
       "      <td>us</td>\n",
       "      <td>sphere</td>\n",
       "      <td>7200.0</td>\n",
       "      <td>2 hours</td>\n",
       "      <td>These are accounts of several personal UFO and...</td>\n",
       "      <td>5/15/2006</td>\n",
       "      <td>30.3319444</td>\n",
       "      <td>-81.655833</td>\n",
       "    </tr>\n",
       "  </tbody>\n",
       "</table>\n",
       "</div>"
      ],
      "text/plain": [
       "                                   city state country     shape  \\\n",
       "datetime                                                          \n",
       "2005-01-15 12:00:00          baker city    or      us     other   \n",
       "2005-01-01 03:00:00        ocean shores    wa      us     flash   \n",
       "2005-01-15 19:30:00  ocala (n and s of)    fl      us  triangle   \n",
       "2005-01-15 03:20:00             atlanta    tx      us     other   \n",
       "2005-01-19 18:30:00        jacksonville    fl      us    sphere   \n",
       "\n",
       "                     duration (seconds) duration (hours/min)  \\\n",
       "datetime                                                       \n",
       "2005-01-15 12:00:00             86400.0             everyday   \n",
       "2005-01-01 03:00:00             14400.0                 4hrs   \n",
       "2005-01-15 19:30:00             12600.0            3.5 hours   \n",
       "2005-01-15 03:20:00              7200.0              2 hours   \n",
       "2005-01-19 18:30:00              7200.0              2 hours   \n",
       "\n",
       "                                                              comments  \\\n",
       "datetime                                                                 \n",
       "2005-01-15 12:00:00                                    Lessons learned   \n",
       "2005-01-01 03:00:00  thier were ligth flashing &#44moving in all di...   \n",
       "2005-01-15 19:30:00  Multiple types of objects in night sky of cent...   \n",
       "2005-01-15 03:20:00                                  STRANGE LIGHTNING   \n",
       "2005-01-19 18:30:00  These are accounts of several personal UFO and...   \n",
       "\n",
       "                    date posted    latitude  longitude   \n",
       "datetime                                                 \n",
       "2005-01-15 12:00:00   1/19/2005  44.7750000 -117.833333  \n",
       "2005-01-01 03:00:00   1/11/2005  46.9738889 -124.155000  \n",
       "2005-01-15 19:30:00   1/19/2005  29.1869444  -82.140278  \n",
       "2005-01-15 03:20:00    2/8/2005  33.1136111  -94.164167  \n",
       "2005-01-19 18:30:00   5/15/2006  30.3319444  -81.655833  "
      ]
     },
     "execution_count": 49,
     "metadata": {},
     "output_type": "execute_result"
    }
   ],
   "source": [
    "# Enero 2005 - Avistajes mas largos\n",
    "fileDf.set_index('datetime').loc['2005-01-01':'2005-01-31'].nlargest(5,'duration (seconds)')"
   ]
  },
  {
   "cell_type": "code",
   "execution_count": 50,
   "metadata": {},
   "outputs": [
    {
     "data": {
      "text/plain": [
       "shape\n",
       "light       63\n",
       "circle      36\n",
       "triangle    30\n",
       "disk        29\n",
       "fireball    29\n",
       "dtype: int64"
      ]
     },
     "execution_count": 50,
     "metadata": {},
     "output_type": "execute_result"
    }
   ],
   "source": [
    "# Los Angeles, CA - Shapes\n",
    "fileDf.loc[(fileDf['state']=='ca') & (fileDf['city']=='los angeles'),:].groupby('shape').size().nlargest(5)"
   ]
  },
  {
   "cell_type": "code",
   "execution_count": 72,
   "metadata": {},
   "outputs": [
    {
     "data": {
      "text/plain": [
       "(2184, 10)"
      ]
     },
     "execution_count": 72,
     "metadata": {},
     "output_type": "execute_result"
    }
   ],
   "source": [
    "# USA 2000 - Cantidad Registros\n",
    "usa2000 = fileDf.loc[fileDf['country']=='us',:]\n",
    "usa2000 = usa2000.set_index('datetime').loc['2000-01-01':'2001-01-01']\n",
    "usa2000.shape"
   ]
  },
  {
   "cell_type": "code",
   "execution_count": 75,
   "metadata": {
    "collapsed": true
   },
   "outputs": [
    {
     "data": {
      "text/plain": [
       "shape\n",
       "light        16565\n",
       "triangle      7865\n",
       "circle        7608\n",
       "fireball      6208\n",
       "other         5649\n",
       "unknown       5584\n",
       "sphere        5387\n",
       "disk          5213\n",
       "oval          3733\n",
       "formation     2457\n",
       "cigar         2057\n",
       "changing      1962\n",
       "flash         1328\n",
       "rectangle     1297\n",
       "cylinder      1283\n",
       "diamond       1178\n",
       "chevron        952\n",
       "egg            759\n",
       "teardrop       750\n",
       "cone           316\n",
       "cross          233\n",
       "delta            7\n",
       "round            2\n",
       "crescent         2\n",
       "pyramid          1\n",
       "dome             1\n",
       "flare            1\n",
       "hexagon          1\n",
       "changed          1\n",
       "dtype: int64"
      ]
     },
     "execution_count": 75,
     "metadata": {},
     "output_type": "execute_result"
    }
   ],
   "source": [
    "# Shape Chevron cantidad\n",
    "fileDf.groupby('shape').size().sort_values(ascending = False)"
   ]
  },
  {
   "cell_type": "code",
   "execution_count": 17,
   "metadata": {},
   "outputs": [
    {
     "data": {
      "text/html": [
       "<div>\n",
       "<style scoped>\n",
       "    .dataframe tbody tr th:only-of-type {\n",
       "        vertical-align: middle;\n",
       "    }\n",
       "\n",
       "    .dataframe tbody tr th {\n",
       "        vertical-align: top;\n",
       "    }\n",
       "\n",
       "    .dataframe thead th {\n",
       "        text-align: right;\n",
       "    }\n",
       "</style>\n",
       "<table border=\"1\" class=\"dataframe\">\n",
       "  <thead>\n",
       "    <tr style=\"text-align: right;\">\n",
       "      <th></th>\n",
       "      <th>datetime</th>\n",
       "      <th>city</th>\n",
       "      <th>state</th>\n",
       "      <th>country</th>\n",
       "      <th>shape</th>\n",
       "      <th>duration (seconds)</th>\n",
       "      <th>duration (hours/min)</th>\n",
       "      <th>comments</th>\n",
       "      <th>date posted</th>\n",
       "      <th>latitude</th>\n",
       "      <th>longitude</th>\n",
       "    </tr>\n",
       "  </thead>\n",
       "  <tbody>\n",
       "  </tbody>\n",
       "</table>\n",
       "</div>"
      ],
      "text/plain": [
       "Empty DataFrame\n",
       "Columns: [datetime, city, state, country, shape, duration (seconds), duration (hours/min), comments, date posted, latitude, longitude ]\n",
       "Index: []"
      ]
     },
     "execution_count": 17,
     "metadata": {},
     "output_type": "execute_result"
    }
   ],
   "source": [
    "# Vancouver en Top20 ---> No\n",
    "top20 = fileDf.sort_values('duration (seconds)', ascending = False).head(20)\n",
    "top20.loc[top20['city']=='vancouver',:]"
   ]
  },
  {
   "cell_type": "code",
   "execution_count": 77,
   "metadata": {
    "collapsed": true
   },
   "outputs": [
    {
     "data": {
      "text/plain": [
       "shape\n",
       "light        328\n",
       "triangle     192\n",
       "fireball     132\n",
       "unknown      118\n",
       "other        115\n",
       "sphere       113\n",
       "circle       110\n",
       "disk         102\n",
       "oval          61\n",
       "cigar         56\n",
       "cylinder      37\n",
       "changing      34\n",
       "chevron       28\n",
       "formation     26\n",
       "diamond       23\n",
       "rectangle     23\n",
       "flash         15\n",
       "teardrop      14\n",
       "egg            9\n",
       "cone           5\n",
       "cross          4\n",
       "delta          1\n",
       "dtype: int64"
      ]
     },
     "execution_count": 77,
     "metadata": {},
     "output_type": "execute_result"
    }
   ],
   "source": [
    "# Montana, USA - Shapes\n",
    "montana = fileDf.loc[fileDf['state']=='mo',:]\n",
    "montana.groupby('shape').size().sort_values(ascending = False)"
   ]
  },
  {
   "cell_type": "code",
   "execution_count": 19,
   "metadata": {
    "collapsed": true
   },
   "outputs": [
    {
     "data": {
      "text/plain": [
       "light        0.211288\n",
       "triangle     0.100319\n",
       "circle       0.097041\n",
       "fireball     0.079184\n",
       "other        0.072054\n",
       "unknown      0.071224\n",
       "sphere       0.068712\n",
       "disk         0.066492\n",
       "oval         0.047615\n",
       "formation    0.031339\n",
       "cigar        0.026237\n",
       "changing     0.025026\n",
       "flash        0.016939\n",
       "rectangle    0.016543\n",
       "cylinder     0.016365\n",
       "diamond      0.015026\n",
       "chevron      0.012143\n",
       "egg          0.009681\n",
       "teardrop     0.009566\n",
       "cone         0.004031\n",
       "cross        0.002972\n",
       "delta        0.000089\n",
       "crescent     0.000026\n",
       "round        0.000026\n",
       "changed      0.000013\n",
       "flare        0.000013\n",
       "hexagon      0.000013\n",
       "dome         0.000013\n",
       "pyramid      0.000013\n",
       "Name: shape, dtype: float64"
      ]
     },
     "execution_count": 19,
     "metadata": {},
     "output_type": "execute_result"
    }
   ],
   "source": [
    "# Cantidad y Porcentaje Shapes\n",
    "fileDf['shape'].value_counts(normalize = True)\n"
   ]
  },
  {
   "cell_type": "code",
   "execution_count": 20,
   "metadata": {
    "collapsed": true
   },
   "outputs": [
    {
     "data": {
      "text/plain": [
       "us    65114\n",
       "ca     3000\n",
       "gb     1905\n",
       "au      538\n",
       "de      105\n",
       "Name: country, dtype: int64"
      ]
     },
     "execution_count": 20,
     "metadata": {},
     "output_type": "execute_result"
    }
   ],
   "source": [
    "# Cantidad Paises\n",
    "fileDf['country'].value_counts()"
   ]
  }
 ],
 "metadata": {
  "kernelspec": {
   "display_name": "Python 3",
   "language": "python",
   "name": "python3"
  },
  "language_info": {
   "codemirror_mode": {
    "name": "ipython",
    "version": 3
   },
   "file_extension": ".py",
   "mimetype": "text/x-python",
   "name": "python",
   "nbconvert_exporter": "python",
   "pygments_lexer": "ipython3",
   "version": "3.6.5"
  }
 },
 "nbformat": 4,
 "nbformat_minor": 2
}
